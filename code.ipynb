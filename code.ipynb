{
  "cells": [
    {
      "cell_type": "code",
      "execution_count": null,
      "metadata": {
        "id": "48PHZXDvAHbI"
      },
      "outputs": [],
      "source": [
        "!pip install keras-visualizer"
      ]
    },
    {
      "cell_type": "code",
      "execution_count": null,
      "metadata": {
        "id": "I2roKiuwkws0"
      },
      "outputs": [],
      "source": [
        "!pip install astroNN"
      ]
    },
    {
      "cell_type": "code",
      "execution_count": null,
      "metadata": {
        "id": "NHWB5fGxANEn"
      },
      "outputs": [],
      "source": [
        "from keras_visualizer import visualizer"
      ]
    },
    {
      "cell_type": "code",
      "execution_count": null,
      "metadata": {
        "id": "6bFOQ930kK-V"
      },
      "outputs": [],
      "source": [
        "import numpy as np\n",
        "from tensorflow.keras import utils\n",
        "from tensorflow.keras import layers\n",
        "from astroNN.datasets import load_galaxy10\n",
        "import matplotlib.pyplot as plt\n",
        "import tensorflow as tf\n",
        "import pathlib\n",
        "import numpy as np\n",
        "from sklearn.model_selection import train_test_split\n",
        "from astroNN.datasets.galaxy10 import galaxy10cls_lookup\n",
        "from PIL import Image as im"
      ]
    },
    {
      "cell_type": "code",
      "execution_count": null,
      "metadata": {
        "id": "gT8SrAnGY2L8"
      },
      "outputs": [],
      "source": [
        "#Load Data\n",
        "dataset = load_galaxy10()"
      ]
    },
    {
      "cell_type": "code",
      "execution_count": null,
      "metadata": {
        "id": "xC6QCN3gY3tk"
      },
      "outputs": [],
      "source": [
        "images, labels = dataset"
      ]
    },
    {
      "cell_type": "code",
      "execution_count": null,
      "metadata": {
        "id": "7hbHln_5bjA-"
      },
      "outputs": [],
      "source": [
        "print(images[0].shape)\n",
        "first_image = im.fromarray(images[0])\n",
        "plt.axis(\"off\")\n",
        "plt.imshow(first_image)"
      ]
    },
    {
      "cell_type": "code",
      "execution_count": null,
      "metadata": {
        "id": "ehGKpXwdFl9z"
      },
      "outputs": [],
      "source": [
        "#Remove low count classes\n",
        "del_idx = []\n",
        "\n",
        "for idx, label in enumerate(labels):\n",
        "  if (label in [3,5,6,8,9]): del_idx.append(idx)\n",
        "\n",
        "labels = np.delete(labels, del_idx)\n",
        "images = np.delete(images, del_idx, 0)\n",
        "labels = np.where(labels == 4, 3, labels)\n",
        "labels = np.where(labels == 7, 4, labels)"
      ]
    },
    {
      "cell_type": "code",
      "execution_count": null,
      "metadata": {
        "id": "k33wFgUGpB-x"
      },
      "outputs": [],
      "source": [
        "labels = utils.to_categorical(labels, 5)\n",
        "labels = labels.astype(np.float32)\n",
        "images = images.astype(np.float32)"
      ]
    },
    {
      "cell_type": "code",
      "execution_count": null,
      "metadata": {
        "id": "ZADS9QjHP0JM"
      },
      "outputs": [],
      "source": [
        "print(labels.shape)"
      ]
    },
    {
      "cell_type": "code",
      "execution_count": null,
      "metadata": {
        "id": "e2-fEOo2Fm5M"
      },
      "outputs": [],
      "source": [
        "# Datasets\n",
        "train_idx, val_idx = train_test_split(np.arange(labels.shape[0]), test_size=0.2)\n",
        "train_ds, train_labels, val_ds, val_labels = images[train_idx], labels[train_idx], images[val_idx], labels[val_idx]\n",
        "val_img = val_ds\n",
        "train_ds = tf.data.Dataset.from_tensor_slices((train_ds, train_labels)).batch(128)\n",
        "val_ds = tf.data.Dataset.from_tensor_slices((val_ds, val_labels)).batch(128)"
      ]
    },
    {
      "cell_type": "code",
      "execution_count": null,
      "metadata": {
        "id": "Q-5qtrDyFz8U"
      },
      "outputs": [],
      "source": [
        "# Lookup class labels\n",
        "class_names = []\n",
        "for i in [0,1,2,4,7]:\n",
        "  class_names.append(galaxy10cls_lookup(i))\n",
        "print(class_names)\n",
        "num_classes = 5"
      ]
    },
    {
      "cell_type": "code",
      "execution_count": null,
      "metadata": {
        "id": "zqCh7lCFocgf"
      },
      "outputs": [],
      "source": [
        "AUTOTUNE = tf.data.AUTOTUNE\n",
        "train_ds = train_ds.cache().prefetch(buffer_size=AUTOTUNE)\n",
        "val_ds = val_ds.cache().prefetch(buffer_size=AUTOTUNE)"
      ]
    },
    {
      "cell_type": "code",
      "execution_count": null,
      "metadata": {
        "id": "29pD1qxRoPTo"
      },
      "outputs": [],
      "source": [
        "# Data augmentation\n",
        "data_augmentation = tf.keras.Sequential(\n",
        "  [\n",
        "    tf.keras.layers.experimental.preprocessing.RandomFlip(mode=\"horizontal\"),\n",
        "    tf.keras.layers.experimental.preprocessing.RandomContrast(factor=0.1),\n",
        "    tf.keras.layers.experimental.preprocessing.RandomRotation(0.3, fill_mode='nearest', interpolation='bilinear', seed=None, fill_value=0.0)\n",
        "  ]\n",
        ")"
      ]
    },
    {
      "cell_type": "markdown",
      "metadata": {
        "id": "Y7A3YI-rZgKb"
      },
      "source": [
        ""
      ]
    },
    {
      "cell_type": "code",
      "execution_count": null,
      "metadata": {
        "id": "5rdhwd7iF4IT"
      },
      "outputs": [],
      "source": [
        "def create_model():\n",
        "  model = tf.keras.Sequential([\n",
        "    data_augmentation,\n",
        "    tf.keras.Input(shape=(69, 69, 3)),\n",
        "    layers.Conv2D(32, kernel_size=7, strides=2, padding=\"same\"),\n",
        "    layers.MaxPool2D(),\n",
        "    layers.LeakyReLU(alpha=0.4),\n",
        "    layers.Conv2D(32, kernel_size=7, strides=2, padding=\"same\"),\n",
        "    layers.MaxPool2D(),\n",
        "    layers.LeakyReLU(alpha=0.4),\n",
        "    layers.Conv2D(64, kernel_size=7, strides=2, padding=\"same\"),\n",
        "    layers.MaxPool2D(),\n",
        "    layers.LeakyReLU(alpha=0.4),\n",
        "    layers.Conv2D(128, kernel_size=7, strides=2, padding=\"same\"),\n",
        "    layers.LeakyReLU(alpha=0.4),\n",
        "    layers.Dropout(0.2),\n",
        "    layers.Flatten(),\n",
        "    layers.Dense(64, activation=\"relu\"),\n",
        "    layers.Dense(32, activation=\"relu\"),\n",
        "    layers.Dense(5, activation=\"sigmoid\"),\n",
        "  ])\n",
        "  model.compile(\n",
        "    optimizer=tf.keras.optimizers.Adam(learning_rate=0.00001),\n",
        "    loss = 'categorical_crossentropy',\n",
        "    metrics=['accuracy'],\n",
        "    \n",
        "  )\n",
        "  return model\n",
        "model = create_model()\n",
        "#model.summary()"
      ]
    },
    {
      "cell_type": "code",
      "execution_count": null,
      "metadata": {
        "id": "qFiLkKp8F7Og"
      },
      "outputs": [],
      "source": [
        "epochs = 400\n",
        "history = model.fit(train_ds, validation_data=val_ds, epochs=epochs)"
      ]
    },
    {
      "cell_type": "code",
      "execution_count": null,
      "metadata": {
        "id": "4J4ANguLoDSg"
      },
      "outputs": [],
      "source": [
        "y_vloss = history.history['val_loss']\n",
        "y_loss = history.history['loss']\n",
        "y_acc = history.history['accuracy']\n",
        "y_vacc = history.history['val_accuracy']"
      ]
    },
    {
      "cell_type": "code",
      "execution_count": null,
      "metadata": {
        "id": "dJ6ilJxKjZID"
      },
      "outputs": [],
      "source": [
        "print(max(y_vacc))"
      ]
    },
    {
      "cell_type": "code",
      "execution_count": null,
      "metadata": {
        "id": "q7zwLxVoF-dW"
      },
      "outputs": [],
      "source": [
        "fig, (ax1, ax2) = plt.subplots(1, 2)\n",
        "ax1.plot(np.arange(len(y_vloss)), y_vloss, marker='.', c='red')\n",
        "ax1.plot(np.arange(len(y_loss)), y_loss, marker='.', c='blue')\n",
        "ax1.grid()\n",
        "plt.setp(ax1, xlabel='epoch', ylabel='loss')\n",
        "\n",
        "ax2.plot(np.arange(len(y_vacc)), y_vacc, marker='.', c='red')\n",
        "ax2.plot(np.arange(len(y_acc)), y_acc, marker='.', c='blue')\n",
        "ax2.grid()\n",
        "plt.setp(ax2, xlabel='epoch', ylabel='accuracy')\n",
        "\n",
        "plt.show()\n"
      ]
    },
    {
      "cell_type": "code",
      "execution_count": null,
      "metadata": {
        "id": "2vIVZlTPr6s-"
      },
      "outputs": [],
      "source": [
        "preds = model.predict(val_ds)\n",
        "cs = np.argmax(preds, axis=1)\n",
        "print(cs.shape)\n",
        "print(val_img.shape)"
      ]
    },
    {
      "cell_type": "code",
      "execution_count": null,
      "metadata": {
        "id": "oTqSOkB2so43"
      },
      "outputs": [],
      "source": [
        "for idx, i in enumerate(cs):\n",
        "  if(i!= 4): continue\n",
        "  img = val_img[idx]\n",
        "  plt.imshow(img)"
      ]
    }
  ],
  "metadata": {
    "accelerator": "GPU",
    "colab": {
      "background_execution": "on",
      "collapsed_sections": [],
      "machine_shape": "hm",
      "name": "code.ipynb",
      "provenance": [],
      "private_outputs": true
    },
    "kernelspec": {
      "display_name": "Python 3",
      "name": "python3"
    },
    "language_info": {
      "name": "python"
    }
  },
  "nbformat": 4,
  "nbformat_minor": 0
}